{
  "cells": [
    {
      "cell_type": "markdown",
      "metadata": {
        "id": "view-in-github",
        "colab_type": "text"
      },
      "source": [
        "<a href=\"https://colab.research.google.com/github/friskyamirontoneng/Data-Mining/blob/main/My_Preprocessing_Data.ipynb\" target=\"_parent\"><img src=\"https://colab.research.google.com/assets/colab-badge.svg\" alt=\"Open In Colab\"/></a>"
      ]
    },
    {
      "cell_type": "code",
      "execution_count": null,
      "metadata": {
        "id": "gRcpdPF_J8Y6"
      },
      "outputs": [],
      "source": [
        "import numpy as np\n",
        "import matplotlib.pyplot as plt\n",
        "import pandas as pd"
      ]
    },
    {
      "cell_type": "code",
      "source": [
        "dataset=pd.read_csv('Data.csv')\n",
        "X=dataset.iloc[:, :-1].values\n",
        "y=dataset.iloc[:, -1].values"
      ],
      "metadata": {
        "id": "TFWeZicDNYCM"
      },
      "execution_count": null,
      "outputs": []
    },
    {
      "cell_type": "code",
      "source": [
        "print(X)"
      ],
      "metadata": {
        "colab": {
          "base_uri": "https://localhost:8080/"
        },
        "id": "ALKE4ekVNYM8",
        "outputId": "2319a983-1ec1-4c6b-d2e1-dc9a2a8f99fd"
      },
      "execution_count": null,
      "outputs": [
        {
          "output_type": "stream",
          "name": "stdout",
          "text": [
            "[['Matematika' 15.0 80.5]\n",
            " ['Fisika' 17.0 55.5]\n",
            " ['Kimia' 16.0 nan]\n",
            " ['Biologi' 18.0 80.7]\n",
            " ['Matematika' 17.0 70.5]\n",
            " ['Fisika' nan 85.2]\n",
            " ['Kimia' 15.0 87.2]\n",
            " ['Biologi' 16.0 80.5]\n",
            " ['Matematika' 17.0 75.7]\n",
            " ['Fisika' 18.0 85.9]]\n"
          ]
        }
      ]
    },
    {
      "cell_type": "code",
      "source": [
        "print(y)"
      ],
      "metadata": {
        "colab": {
          "base_uri": "https://localhost:8080/"
        },
        "id": "EVIVmo28NYXP",
        "outputId": "1c70bc1d-0167-4ebe-b7e9-07031911d5cf"
      },
      "execution_count": null,
      "outputs": [
        {
          "output_type": "stream",
          "name": "stdout",
          "text": [
            "[' Ya' ' Tidak' ' Tidak' ' Ya' ' Ya' ' Ya' ' Tidak' ' Tidak' ' Ya' ' Ya']\n"
          ]
        }
      ]
    },
    {
      "cell_type": "code",
      "source": [
        "from sklearn.impute import SimpleImputer\n",
        "imputer=SimpleImputer(missing_values=np.nan, strategy='mean')\n",
        "imputer.fit(X[:, 1:3])\n",
        "X[:, 1:3] = imputer.transform(X[:, 1:3])"
      ],
      "metadata": {
        "id": "u7hw5qNsNYgl"
      },
      "execution_count": null,
      "outputs": []
    },
    {
      "cell_type": "code",
      "source": [
        "print(X)"
      ],
      "metadata": {
        "colab": {
          "base_uri": "https://localhost:8080/"
        },
        "id": "Pk8U5IC3NYnU",
        "outputId": "39383c7b-f79f-41b4-d0c0-9faac32df69f"
      },
      "execution_count": null,
      "outputs": [
        {
          "output_type": "stream",
          "name": "stdout",
          "text": [
            "[['Matematika' 15.0 80.5]\n",
            " ['Fisika' 17.0 55.5]\n",
            " ['Kimia' 16.0 77.96666666666665]\n",
            " ['Biologi' 18.0 80.7]\n",
            " ['Matematika' 17.0 70.5]\n",
            " ['Fisika' 16.555555555555557 85.2]\n",
            " ['Kimia' 15.0 87.2]\n",
            " ['Biologi' 16.0 80.5]\n",
            " ['Matematika' 17.0 75.7]\n",
            " ['Fisika' 18.0 85.9]]\n"
          ]
        }
      ]
    },
    {
      "cell_type": "code",
      "source": [
        "from sklearn.compose import ColumnTransformer\n",
        "from sklearn.preprocessing import OneHotEncoder\n",
        "ct = ColumnTransformer(transformers=[('encoder', OneHotEncoder(), [0])], remainder='passthrough')\n",
        "X = np.array(ct.fit_transform(X))"
      ],
      "metadata": {
        "id": "kzyqt1VuNYpv"
      },
      "execution_count": null,
      "outputs": []
    },
    {
      "cell_type": "code",
      "source": [
        "print(X)"
      ],
      "metadata": {
        "colab": {
          "base_uri": "https://localhost:8080/"
        },
        "id": "bZEjICopNYsD",
        "outputId": "443f8a78-cb6e-4232-bfab-e5787b4227de"
      },
      "execution_count": null,
      "outputs": [
        {
          "output_type": "stream",
          "name": "stdout",
          "text": [
            "[[0.0 0.0 0.0 1.0 15.0 80.5]\n",
            " [0.0 1.0 0.0 0.0 17.0 55.5]\n",
            " [0.0 0.0 1.0 0.0 16.0 77.96666666666665]\n",
            " [1.0 0.0 0.0 0.0 18.0 80.7]\n",
            " [0.0 0.0 0.0 1.0 17.0 70.5]\n",
            " [0.0 1.0 0.0 0.0 16.555555555555557 85.2]\n",
            " [0.0 0.0 1.0 0.0 15.0 87.2]\n",
            " [1.0 0.0 0.0 0.0 16.0 80.5]\n",
            " [0.0 0.0 0.0 1.0 17.0 75.7]\n",
            " [0.0 1.0 0.0 0.0 18.0 85.9]]\n"
          ]
        }
      ]
    },
    {
      "cell_type": "code",
      "source": [
        "from sklearn.preprocessing import LabelEncoder\n",
        "le = LabelEncoder()\n",
        "y = le.fit_transform(y)"
      ],
      "metadata": {
        "id": "NpNfMsJ-NYuZ"
      },
      "execution_count": null,
      "outputs": []
    },
    {
      "cell_type": "code",
      "source": [
        "print(y)"
      ],
      "metadata": {
        "colab": {
          "base_uri": "https://localhost:8080/"
        },
        "id": "r8QScBCuNYw5",
        "outputId": "df8f8d5d-4361-4e45-8601-dbfe574f1dea"
      },
      "execution_count": null,
      "outputs": [
        {
          "output_type": "stream",
          "name": "stdout",
          "text": [
            "[1 0 0 1 1 1 0 0 1 1]\n"
          ]
        }
      ]
    },
    {
      "cell_type": "code",
      "source": [
        "from sklearn.model_selection import train_test_split\n",
        "X_train, X_test, y_train, y_test =train_test_split( X, y, test_size=0.2, random_state=1 )"
      ],
      "metadata": {
        "id": "yL-YRb6pNYzX"
      },
      "execution_count": null,
      "outputs": []
    },
    {
      "cell_type": "code",
      "source": [
        "print(X_train)"
      ],
      "metadata": {
        "colab": {
          "base_uri": "https://localhost:8080/"
        },
        "id": "_D3dLbFeNY18",
        "outputId": "0582e7a9-2610-491e-a159-df262f548ecc"
      },
      "execution_count": null,
      "outputs": [
        {
          "output_type": "stream",
          "name": "stdout",
          "text": [
            "[[0.0 0.0 1.0 0.0 15.0 87.2]\n",
            " [0.0 0.0 0.0 1.0 17.0 70.5]\n",
            " [0.0 0.0 0.0 1.0 15.0 80.5]\n",
            " [1.0 0.0 0.0 0.0 18.0 80.7]\n",
            " [0.0 1.0 0.0 0.0 17.0 55.5]\n",
            " [1.0 0.0 0.0 0.0 16.0 80.5]\n",
            " [0.0 0.0 0.0 1.0 17.0 75.7]\n",
            " [0.0 1.0 0.0 0.0 16.555555555555557 85.2]]\n"
          ]
        }
      ]
    },
    {
      "cell_type": "code",
      "source": [
        "print(X_test)"
      ],
      "metadata": {
        "colab": {
          "base_uri": "https://localhost:8080/"
        },
        "id": "dJlhkyNPOfSk",
        "outputId": "f5a8aa8c-11fc-474b-b267-af7d2328c891"
      },
      "execution_count": null,
      "outputs": [
        {
          "output_type": "stream",
          "name": "stdout",
          "text": [
            "[[0.0 0.0 1.0 0.0 16.0 77.96666666666665]\n",
            " [0.0 1.0 0.0 0.0 18.0 85.9]]\n"
          ]
        }
      ]
    },
    {
      "cell_type": "code",
      "source": [
        "print(y_train)"
      ],
      "metadata": {
        "colab": {
          "base_uri": "https://localhost:8080/"
        },
        "id": "p_2KsfEVOf0Y",
        "outputId": "3a28a90a-6b5e-4486-d2db-9d3193b6cfac"
      },
      "execution_count": null,
      "outputs": [
        {
          "output_type": "stream",
          "name": "stdout",
          "text": [
            "[0 1 1 1 0 0 1 1]\n"
          ]
        }
      ]
    },
    {
      "cell_type": "code",
      "source": [
        "print(y_test)"
      ],
      "metadata": {
        "colab": {
          "base_uri": "https://localhost:8080/"
        },
        "id": "nl1dokVYNY4E",
        "outputId": "5ebbd748-d098-49f3-808a-6f73fdcc7cb9"
      },
      "execution_count": null,
      "outputs": [
        {
          "output_type": "stream",
          "name": "stdout",
          "text": [
            "[0 1]\n"
          ]
        }
      ]
    },
    {
      "cell_type": "code",
      "source": [
        "from sklearn.preprocessing import StandardScaler\n",
        "sc = StandardScaler()\n",
        "X_train [:, 3:]= sc.fit_transform(X_train[:, 3:])\n",
        "X_test [:, 3:] = sc.transform(X_test[:, 3:])"
      ],
      "metadata": {
        "id": "d8owYEpUO2WA"
      },
      "execution_count": null,
      "outputs": []
    },
    {
      "cell_type": "code",
      "source": [
        "print(X_train)"
      ],
      "metadata": {
        "colab": {
          "base_uri": "https://localhost:8080/"
        },
        "id": "Rm9JHk0FO7Bb",
        "outputId": "ee3107e7-276b-4953-d274-c15873644a70"
      },
      "execution_count": null,
      "outputs": [
        {
          "output_type": "stream",
          "name": "stdout",
          "text": [
            "[[0.0 0.0 1.0 -0.7745966692414834 -1.4696068892549743 1.0810765704617529]\n",
            " [0.0 0.0 0.0 1.2909944487358056 0.5652334189442231 -0.6845937206591554]\n",
            " [0.0 0.0 0.0 1.2909944487358056 -1.4696068892549743 0.37269387881444227]\n",
            " [1.0 0.0 0.0 -0.7745966692414834 1.5826535730438218 0.3938396308039145]\n",
            " [0.0 1.0 0.0 -0.7745966692414834 0.5652334189442231 -2.2705251198695517]\n",
            " [1.0 0.0 0.0 -0.7745966692414834 -0.4521867351553756 0.37269387881444227]\n",
            " [0.0 0.0 0.0 1.2909944487358056 0.5652334189442231 -0.1348041689328843]\n",
            " [0.0 1.0 0.0 -0.7745966692414834 0.11304668378884751 0.8696190505670335]]\n"
          ]
        }
      ]
    },
    {
      "cell_type": "code",
      "source": [
        "print(X_test)"
      ],
      "metadata": {
        "colab": {
          "base_uri": "https://localhost:8080/"
        },
        "id": "-3zxFBSrNY7u",
        "outputId": "47ecc747-370e-4844-a6a9-0c1339befcbe"
      },
      "execution_count": null,
      "outputs": [
        {
          "output_type": "stream",
          "name": "stdout",
          "text": [
            "[[0.0 0.0 1.0 -0.7745966692414834 -0.4521867351553756 0.10484768694779623]\n",
            " [0.0 1.0 0.0 -0.7745966692414834 1.5826535730438218 0.9436291825301856]]\n"
          ]
        }
      ]
    }
  ],
  "metadata": {
    "colab": {
      "name": "My Preprocessing Data.ipynb",
      "provenance": [],
      "collapsed_sections": [],
      "authorship_tag": "ABX9TyP6UL224+Rho6KJKoh04ht6",
      "include_colab_link": true
    },
    "kernelspec": {
      "display_name": "Python 3",
      "name": "python3"
    },
    "language_info": {
      "name": "python"
    }
  },
  "nbformat": 4,
  "nbformat_minor": 0
}